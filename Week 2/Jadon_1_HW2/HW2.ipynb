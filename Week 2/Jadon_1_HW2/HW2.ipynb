{
 "cells": [
  {
   "cell_type": "markdown",
   "id": "055711ac",
   "metadata": {},
   "source": [
    "# CSE 5524 HW2 Utkarsh Pratap Singh Jadon"
   ]
  },
  {
   "cell_type": "markdown",
   "id": "b0ca4a9a",
   "metadata": {},
   "source": [
    "## Import all necessary libraries"
   ]
  },
  {
   "cell_type": "code",
   "execution_count": 2,
   "id": "fdc14188",
   "metadata": {},
   "outputs": [],
   "source": [
    "import matplotlib.pyplot as plt\n",
    "import matplotlib.image as mpimg\n",
    "import cv2\n",
    "import numpy as np\n",
    "import math"
   ]
  },
  {
   "cell_type": "markdown",
   "id": "61180e23",
   "metadata": {},
   "source": [
    "## Read and display image"
   ]
  },
  {
   "cell_type": "code",
   "execution_count": 3,
   "id": "db842f2e",
   "metadata": {},
   "outputs": [],
   "source": [
    "image_affleck =cv2.imread('affleck_gray.png') \n",
    "#cv2.imshow('Ben Affleck!',image_affleck)\n",
    "#cv2.waitKey()\n",
    "#cv2.destroyAllWindows()"
   ]
  },
  {
   "cell_type": "markdown",
   "id": "a890065a",
   "metadata": {},
   "source": [
    "## 1. Applying Gaussian Blur\n",
    "\n",
    "We will apply gaussian blur on the input image. First we will start from higher values of sigma and progressively decrease the sigma Here sigma is taken in the form of a numpy array"
   ]
  },
  {
   "cell_type": "code",
   "execution_count": 4,
   "id": "db719d95",
   "metadata": {},
   "outputs": [],
   "source": [
    "def guessActor(image1):\n",
    "#function to play a game called guess the actor. The image gets progressively sharper. Whoever guesses it at the highest sigma wins.\n",
    "#The function writes the blurred images to disk\n",
    "    sigma_array=np.array([20,15,10,5,2,1])\n",
    "    for sigma in sigma_array:\n",
    "        blur_img=cv2.GaussianBlur(image1,(2*math.ceil(3*sigma)+1,2*math.ceil(3*sigma)+1),sigma) #Gaussianblur function takes sigmaY=sigmaX when sigmaY is not passed\n",
    "        cv2.imwrite('sigma_equals_' +str(sigma)+'.png', blur_img) #scikit image loads into rgb\n",
    "        cv2.imshow('Guess Who?',blur_img)\n",
    "        cv2.waitKey()\n",
    "        cv2.destroyAllWindows()\n",
    "#guessActor(image_affleck)\n",
    "#My friend guessed the actor at sigma =5, I also had to give him a clue (This guy was in a superhero movie that starts with the letter B)"
   ]
  },
  {
   "cell_type": "markdown",
   "id": "3cd625f0",
   "metadata": {},
   "source": [
    "## 2. Function to compute 2D Gaussian Derivative"
   ]
  },
  {
   "cell_type": "code",
   "execution_count": 5,
   "id": "09fb960f",
   "metadata": {},
   "outputs": [
    {
     "data": {
      "image/png": "[encoded data removed]",
      "text/plain": [
       "<Figure size 432x288 with 1 Axes>"
      ]
     },
     "metadata": {
      "needs_background": "light"
     },
     "output_type": "display_data"
    },
    {
     "data": {
      "text/plain": [
       "<matplotlib.image.AxesImage at 0x7fa15271b2e0>"
      ]
     },
     "execution_count": 5,
     "metadata": {},
     "output_type": "execute_result"
    },
    {
     "data": {
      "image/png": "[encoded data removed]",
      "text/plain": [
       "<Figure size 432x288 with 1 Axes>"
      ]
     },
     "metadata": {
      "needs_background": "light"
     },
     "output_type": "display_data"
    }
   ],
   "source": [
    "def gaussDeriv2D(sigma):\n",
    "    x=np.arange(-3*math.ceil(sigma),3*math.ceil(sigma+1),1)     #choosing a 3-sigma coverage\n",
    "    y=np.arange(-3*math.ceil(sigma),3*math.ceil(sigma+1),1)    #choosing a 3-sigma coverage\n",
    "    factor = 1/(2*math.pi*math.pow(sigma,4))  #the scalar factor being multiplied in the formula\n",
    "    Gx=np.zeros((y.size,x.size))\n",
    "    Gy=np.zeros((y.size,x.size))\n",
    "    for j in range(0,y.size,1):           #calculating each element of the 2D Gaussian X gradient filter\n",
    "        for i in range(0,x.size,1):\n",
    "            Gx[j][i]=x[i]*np.exp(-(x[i]*x[i]+y[j]*y[j])/(2*sigma**2))*factor #remove the negative sign from the formula to get filter in increasing-axis direction\n",
    "    for j in range(0,y.size,1):             #calculating each element of the 2D Gaussian Y gradient filter\n",
    "        for i in range(0,x.size,1):      \n",
    "            Gy[j][i]=y[j]*np.exp(-(x[i]*x[i]+y[j]*y[j])/(2*sigma**2))*factor #remove the negative sign from the formula to get filter in increasing-axis direction\n",
    "    return [Gx,Gy]\n",
    "[Gx,Gy]=gaussDeriv2D(10) #function-call\n",
    "plt.title('Gaussian Derivative filter towards X')\n",
    "plt.imshow(Gx, aspect='equal', extent=None)\n",
    "plt.plot(Gx)\n",
    "plt.pause(0.1) # pause for 0.1 second\n",
    "plt.title('Gaussian Derivative filter towards Y')\n",
    "plt.plot(Gy)\n",
    "plt.imshow(Gy, aspect='equal', extent=None)"
   ]
  },
  {
   "cell_type": "markdown",
   "id": "29156788",
   "metadata": {},
   "source": [
    "## 3. Calculate Gaussian Gradient X and Y and then the gradient magnitude applied to the web image\n",
    "\n",
    "We will first convert the image to grayscale. Then we will apply the gradient on the image and compute the magnitude of the gradients\n",
    "\n",
    "Image Source -BuckeyesWire.usatoday, Article on the Web -https://buckeyeswire.usatoday.com/2021/09/07/2021-ohio-state-football-schedule-downloadable-wallpaper/"
   ]
  },
  {
   "cell_type": "code",
   "execution_count": 8,
   "id": "1bd0ab72",
   "metadata": {},
   "outputs": [],
   "source": [
    "import scipy.ndimage #import library"
   ]
  },
  {
   "cell_type": "code",
   "execution_count": null,
   "id": "5b8a7534",
   "metadata": {},
   "outputs": [],
   "source": [
    "#Read and Display the Web image\n",
    "osu_fans = cv2.imread('OSU-Fan.png') #reading image\n",
    "gray_osu_fans = cv2.cvtColor(osu_fans, cv2.COLOR_BGR2GRAY) #converting to grayscale\n",
    "cv2.imshow('Image',gray_osu_fans) #display the grayscale image\n",
    "cv2.waitKey()\n",
    "cv2.destroyAllWindows()\n",
    "cv2.imwrite('Gray-OSU-Fan.png',gray_osu_fans)\n",
    "\n",
    "#calculate Gaussian X\n",
    "\n",
    "gx_img=scipy.ndimage.correlate(gray_osu_fans, Gx, mode='nearest') #applied the gaussian X - Gx gradient filter \n",
    "cv2.imshow('Gaussian-X',gx_img)  #display the grayscale image\n",
    "cv2.waitKey()\n",
    "cv2.destroyAllWindows()\n",
    "cv2.imwrite('Gaussian-X.png',gx_img)\n",
    "\n",
    "#calculate Gaussian Y\n",
    "\n",
    "gy_img=scipy.ndimage.correlate(gray_osu_fans, Gy, mode='nearest') #applied the gaussian Y - Gy gradient filter\n",
    "cv2.imshow('Gaussian-Y',gy_img)  #display the grayscale image\n",
    "cv2.waitKey()\n",
    "cv2.destroyAllWindows()\n",
    "cv2.imwrite('Gaussian-Y.png',gy_img)\n",
    "\n",
    "#Calculate magnitude\n",
    "\n",
    "magIm = np.sqrt(gx_img*gx_img + gy_img*gy_img,dtype=np.float) #mentioned the dtype parameter to prevent float to int conversions\n",
    "cv2.imshow('Image',magIm)  #display the grayscale image\n",
    "cv2.waitKey()\n",
    "cv2.destroyAllWindows()"
   ]
  },
  {
   "cell_type": "markdown",
   "id": "d3771e72",
   "metadata": {},
   "source": [
    "## 4. Experimenting with the Threshold"
   ]
  },
  {
   "cell_type": "code",
   "execution_count": null,
   "id": "fe9018c4",
   "metadata": {},
   "outputs": [],
   "source": [
    "t=[5,4,3,2.5,2,1.5,1,0.5]  #array for threshold values\n",
    "for x in t:\n",
    "    tIm=np.array(magIm>x,dtype=np.float) #set threshold value\n",
    "    cv2.imshow('Image',tIm)  #display the grayscale image\n",
    "    cv2.waitKey()\n",
    "    cv2.destroyAllWindows()\n",
    "# t=1 gives the best results of least noise and subject capture"
   ]
  },
  {
   "cell_type": "markdown",
   "id": "60fe7d28",
   "metadata": {},
   "source": [
    "## 5. Sobel X and Sobel Y calculations"
   ]
  },
  {
   "cell_type": "code",
   "execution_count": null,
   "id": "136b9f8c",
   "metadata": {},
   "outputs": [],
   "source": [
    "# Sobel X Calculations\n",
    "x_sobel=scipy.ndimage.sobel(gray_osu_fans, axis=-0, output=None, mode='reflect', cval=0.0)\n",
    "cv2.imshow('Sobel - X direction', x_sobel)\n",
    "cv2.waitKey()\n",
    "cv2.destroyAllWindows()\n",
    "cv2.imwrite('Sobel - X direction.png',x_sobel)"
   ]
  },
  {
   "cell_type": "code",
   "execution_count": null,
   "id": "c6fe8309",
   "metadata": {},
   "outputs": [],
   "source": [
    "# Sobel Y Calculations\n",
    "y_sobel=scipy.ndimage.sobel(gray_osu_fans, axis=- 1, output=None, mode='reflect', cval=0.0)\n",
    "cv2.imshow('Sobel - Y - direction',y_sobel)\n",
    "cv2.waitKey()\n",
    "cv2.destroyAllWindows()\n",
    "cv2.imwrite('Sobel - Y direction.png',y_sobel)"
   ]
  },
  {
   "cell_type": "code",
   "execution_count": null,
   "id": "02cca35b",
   "metadata": {},
   "outputs": [],
   "source": [
    "# Sobel magnitude calculations\n",
    "magIm = np.sqrt(x_sobel*x_sobel +y_sobel*y_sobel,dtype=np.float) #mentioned the dtype parameter to prevent float to int conversions\n",
    "cv2.imshow('Sobel Magnitude',magIm)  #display the grayscale image\n",
    "cv2.waitKey()\n",
    "cv2.destroyAllWindows()\n",
    "cv2.imwrite('Sobel_magnitude.png',magIm)\n",
    "# As it can be seen,  in the sobel filter, more background information is present than in the gaussian gradient filter"
   ]
  },
  {
   "cell_type": "markdown",
   "id": "e3c4b0cb",
   "metadata": {},
   "source": [
    "## Canny Calculations"
   ]
  },
  {
   "cell_type": "code",
   "execution_count": null,
   "id": "f5b343da",
   "metadata": {},
   "outputs": [],
   "source": [
    "# I used cv2.Canny to get the canny function\n",
    "canny = cv2.Canny(gray_osu_fans,72,180) #using the same image OSU Fan image as above\n",
    "#lower threshold =72 and higher threshold is 180\n",
    "cv2.imshow('Canny',canny)  #display the grayscale image\n",
    "cv2.waitKey()\n",
    "cv2.destroyAllWindows()\n",
    "cv2.imwrite('Canny.png',canny)\n",
    "#Canny is perfectly identifying the main subject. All the background noise is absent. So it is performing well as compared to both Gaussiam and Sobel filter"
   ]
  }
 ],
 "metadata": {
  "kernelspec": {
   "display_name": "Python 3 (ipykernel)",
   "language": "python",
   "name": "python3"
  },
  "language_info": {
   "codemirror_mode": {
    "name": "ipython",
    "version": 3
   },
   "file_extension": ".py",
   "mimetype": "text/x-python",
   "name": "python",
   "nbconvert_exporter": "python",
   "pygments_lexer": "ipython3",
   "version": "3.9.12"
  }
 },
 "nbformat": 4,
 "nbformat_minor": 5
}
