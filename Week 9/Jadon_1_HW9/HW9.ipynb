{
 "cells": [
  {
   "cell_type": "markdown",
   "id": "cab18e68",
   "metadata": {},
   "source": [
    "# CSE 5524 HW9 Utkarsh Pratap Singh Jadon"
   ]
  },
  {
   "cell_type": "markdown",
   "id": "cc372689",
   "metadata": {},
   "source": [
    "## Question 1"
   ]
  },
  {
   "cell_type": "markdown",
   "id": "588b862b",
   "metadata": {},
   "source": [
    "### Import necessary libraries"
   ]
  },
  {
   "cell_type": "code",
   "execution_count": 55,
   "id": "50761b30",
   "metadata": {},
   "outputs": [],
   "source": [
    "import matplotlib.pyplot as plt\n",
    "import matplotlib.image as mpimg\n",
    "from skimage.color import rgb2gray\n",
    "import cv2 as cv\n",
    "import numpy as np\n",
    "import math\n",
    "from PIL import Image\n",
    "import glob\n",
    "import os\n",
    "import skimage\n",
    "import scipy.ndimage\n",
    "from os import listdir\n",
    "from os.path import join, isfile\n",
    "from skimage import morphology\n",
    "from skimage import measure,color\n",
    "from skimage import io, data \n",
    "from numpy.linalg import eig\n",
    "from scipy import ndimage, misc\n",
    "from scipy.ndimage import median_filter\n",
    "import matplotlib.patches as patches"
   ]
  },
  {
   "cell_type": "markdown",
   "id": "d757af55",
   "metadata": {},
   "source": [
    "### Load 2D and 3D points data"
   ]
  },
  {
   "cell_type": "code",
   "execution_count": 56,
   "id": "4f1a8c9e",
   "metadata": {},
   "outputs": [
    {
     "name": "stdout",
     "output_type": "stream",
     "text": [
      "(100, 2)\n",
      "(100, 3)\n"
     ]
    }
   ],
   "source": [
    "twoDimensionPoints = np.loadtxt('2Dpoints.txt')\n",
    "threeDimensionPoints = np.loadtxt('3Dpoints.txt')\n",
    "\n",
    "print(twoDimensionPoints.shape)\n",
    "print(threeDimensionPoints.shape)"
   ]
  },
  {
   "cell_type": "markdown",
   "id": "cd11086f",
   "metadata": {},
   "source": [
    "### Create arrays x,y for 2D points and X,Y,Z for 3D points"
   ]
  },
  {
   "cell_type": "code",
   "execution_count": 57,
   "id": "a901ca95",
   "metadata": {},
   "outputs": [],
   "source": [
    "x = twoDimensionPoints[:,0]\n",
    "y = twoDimensionPoints[:,1]\n",
    "\n",
    "X = threeDimensionPoints[:,0]\n",
    "Y = threeDimensionPoints[:,1]\n",
    "Z = threeDimensionPoints[:,2]"
   ]
  },
  {
   "cell_type": "markdown",
   "id": "45451118",
   "metadata": {},
   "source": [
    "### Compute A matrix"
   ]
  },
  {
   "cell_type": "code",
   "execution_count": 61,
   "id": "d1a6db4a",
   "metadata": {},
   "outputs": [
    {
     "name": "stdout",
     "output_type": "stream",
     "text": [
      "[ 8.89560004e+03 -3.42725524e+02  7.29791079e+03  1.00000000e+00\n",
      "  0.00000000e+00  0.00000000e+00  0.00000000e+00  0.00000000e+00\n",
      " -4.04749802e+06  1.55940113e+05 -3.32054941e+06 -4.55000000e+02]\n"
     ]
    }
   ],
   "source": [
    "A = []\n",
    "\n",
    "for i in range(100):\n",
    "    Aeven = np.zeros(12)\n",
    "    Aodd = np.zeros(12)\n",
    "    \n",
    "    Aeven[0:4] = [X[i], Y[i], Z[i], 1]\n",
    "    Aeven[4:8] = 0\n",
    "    Aeven[8:12] = [-(X[i]*x[i]), -Y[i]*x[i], -Z[i]*x[i], -x[i]]\n",
    "    \n",
    "    Aodd[0:4] = 0\n",
    "    Aodd[4:8] = [X[i], Y[i], Z[i], 1]\n",
    "    Aodd[8:12] = [-(X[i]*y[i]), -Y[i]*y[i], -Z[i]*y[i], -y[i]]\n",
    "    \n",
    "    A.append(Aeven)\n",
    "    A.append(Aodd)\n",
    "\n",
    "A = np.array(A)\n",
    "print(A[0])"
   ]
  },
  {
   "cell_type": "markdown",
   "id": "29895055",
   "metadata": {},
   "source": [
    "### Compute camera matrix P using eigen-decomposition"
   ]
  },
  {
   "cell_type": "code",
   "execution_count": 62,
   "id": "e69fbce2",
   "metadata": {},
   "outputs": [
    {
     "name": "stdout",
     "output_type": "stream",
     "text": [
      "L2 norm of rasterized matrix P is: 1.0\n",
      "Camera Matrix P is: \n",
      "[[ 2.12330972e-03  2.03511592e-03  1.66862974e-03 -9.12321856e-01]\n",
      " [-6.18900232e-04  1.38205180e-04  2.75867489e-03 -4.09449553e-01]\n",
      " [ 4.24759285e-06 -2.12813147e-06  3.68281248e-06 -6.69704629e-04]]\n"
     ]
    }
   ],
   "source": [
    "B = np.dot((np.transpose(A)),A)\n",
    "value,vector = eig(B)\n",
    "\n",
    "rasterizedVectorP = vector[:,np.argmin(value)]\n",
    "normValue = np.linalg.norm(rasterizedVectorP)\n",
    "print(\"L2 norm of rasterized matrix P is: {}\".format(normValue))\n",
    "\n",
    "cameraMatrixP = rasterizedVectorP.reshape(3,4)\n",
    "print(\"Camera Matrix P is: \")\n",
    "print(cameraMatrixP)"
   ]
  },
  {
   "cell_type": "markdown",
   "id": "f368da3f",
   "metadata": {},
   "source": [
    "## Question 2"
   ]
  },
  {
   "cell_type": "markdown",
   "id": "91fb1472",
   "metadata": {},
   "source": [
    "### Project 3D homogenous points to 2D"
   ]
  },
  {
   "cell_type": "code",
   "execution_count": 63,
   "id": "4e769291",
   "metadata": {},
   "outputs": [],
   "source": [
    "threeDimensionArray = np.zeros((4,100))\n",
    "threeDimensionArray[0][:] = X\n",
    "threeDimensionArray[1][:] = Y\n",
    "threeDimensionArray[2][:] = Z\n",
    "threeDimensionArray[3][:] = 1\n",
    "\n",
    "threeDimensionProjected = np.zeros((3,100))\n",
    "threeDimensionProjected = np.dot((cameraMatrixP), (threeDimensionArray))\n",
    "\n",
    "threeDimensionProjectedInhomo = np.zeros((2,100))\n",
    "\n",
    "threeDimensionProjectedInhomo = threeDimensionProjected / threeDimensionProjected[2][:]\n",
    "\n",
    "#print(threeDimensionProjectedInhomo[:,0])"
   ]
  },
  {
   "cell_type": "markdown",
   "id": "d3ae17b3",
   "metadata": {},
   "source": [
    "### Find sum-of-squared error between 3D-to-2D projected points and given 2D points"
   ]
  },
  {
   "cell_type": "code",
   "execution_count": 64,
   "id": "f479c7c1",
   "metadata": {},
   "outputs": [
    {
     "name": "stdout",
     "output_type": "stream",
     "text": [
      "Sum-of-squared error is: 18.74676180563793\n"
     ]
    }
   ],
   "source": [
    "twoDimensionArray = np.zeros((3,100))\n",
    "twoDimensionArray[0][:] = x\n",
    "twoDimensionArray[1][:] = y\n",
    "twoDimensionArray[2][:] = 1\n",
    "\n",
    "#print(twoDimensionArray.shape)\n",
    "#print(threeDimensionProjectedInhomo.shape)\n",
    "\n",
    "a,b = twoDimensionArray.shape\n",
    "SSE = 0\n",
    "for i in range(a):\n",
    "    for j in range(b):\n",
    "        \n",
    "        SSE += (twoDimensionArray[i][j] - threeDimensionProjectedInhomo[i][j]) ** 2\n",
    "print(\"Sum-of-squared error is: {}\".format(SSE))"
   ]
  },
  {
   "cell_type": "markdown",
   "id": "397756f4",
   "metadata": {},
   "source": [
    "### Discussion"
   ]
  },
  {
   "cell_type": "markdown",
   "id": "24ac9957",
   "metadata": {},
   "source": [
    "I stored the given 3D and 2D coordinates in respective arrays and created an A matrix derived from the equations. Then using eigen decomposition on A(transpose)*A, the eigen vector corresponding to smallest eigen value gives the rasterized camera matrix 'p'. I unrasterized 'p' to 3x4 matrix to get the required camera matrix P. Finally I calculated the sum-of-squared error between 3D-2D projected points and given 2D points."
   ]
  },
  {
   "cell_type": "markdown",
   "id": "5582e5cc",
   "metadata": {},
   "source": [
    "## Question 3"
   ]
  },
  {
   "cell_type": "markdown",
   "id": "8ea97720",
   "metadata": {},
   "source": [
    "### Read and load data for two different images into one array"
   ]
  },
  {
   "cell_type": "code",
   "execution_count": 65,
   "id": "f1f21169",
   "metadata": {},
   "outputs": [
    {
     "name": "stderr",
     "output_type": "stream",
     "text": [
      "/var/folders/_z/7q8tzcpd3s7cr5lz406qzczw0000gn/T/ipykernel_952/484546293.py:6: DeprecationWarning: `np.int` is a deprecated alias for the builtin `int`. To silence this warning, use `int` by itself. Doing this will not modify any behavior and is safe. When replacing `np.int`, you may wish to use e.g. `np.int64` or `np.int32` to specify the precision. If you wish to review your current use, check the release note link for additional information.\n",
      "Deprecated in NumPy 1.20; for more details and guidance: https://numpy.org/devdocs/release/1.20.0-notes.html#deprecations\n",
      "  data.append(a.astype(np.int))\n"
     ]
    }
   ],
   "source": [
    "textFile = np.genfromtxt('homography.txt',dtype='str')\n",
    "data = []\n",
    "for i in range(textFile.shape[0]):\n",
    "    a = textFile[i].split(',')\n",
    "    a = np.array(a)\n",
    "    data.append(a.astype(np.int))\n",
    "textData = np.array(data)\n",
    "#print(textData)"
   ]
  },
  {
   "cell_type": "markdown",
   "id": "6a4e6fc7",
   "metadata": {},
   "source": [
    "### Store data in homogenous arrays image1Array and image2Array"
   ]
  },
  {
   "cell_type": "code",
   "execution_count": 66,
   "id": "9ace2c2a",
   "metadata": {},
   "outputs": [],
   "source": [
    "image1Array = np.zeros((3,15))\n",
    "image1Array[0] = textData[:,0]\n",
    "image1Array[1] = textData[:,1]\n",
    "image1Array[2] = 1\n",
    "\n",
    "image2Array = np.zeros((3,15))\n",
    "image2Array[0] = textData[:,2]\n",
    "image2Array[1] = textData[:,3]\n",
    "image2Array[2] = 1"
   ]
  },
  {
   "cell_type": "markdown",
   "id": "03ad7d24",
   "metadata": {},
   "source": [
    "### Create transformer matrix T1 for image1"
   ]
  },
  {
   "cell_type": "code",
   "execution_count": 67,
   "id": "2e18a3cb",
   "metadata": {},
   "outputs": [
    {
     "name": "stdout",
     "output_type": "stream",
     "text": [
      "[[ 0.00621974  0.         -2.00316977]\n",
      " [ 0.          0.00621974 -1.24892307]\n",
      " [ 0.          0.          1.        ]]\n"
     ]
    }
   ],
   "source": [
    "#Image 1 coordinates stored in 3x15 image1Array\n",
    "T1 = np.zeros((3,3))\n",
    "\n",
    "image1xMean = np.mean(image1Array[0])\n",
    "image1yMean = np.mean(image1Array[1])\n",
    "# print(image1xMean)\n",
    "# print(image1yMean)\n",
    "\n",
    "denominator = 0\n",
    "total = 0\n",
    "\n",
    "a,b = image1Array.shape\n",
    "for i in range(b):\n",
    "    total += np.sqrt((image1Array[0][i] - image1xMean)**2 + (image1Array[1][i] - image1yMean)**2)\n",
    "denominator = total / 15\n",
    "s1 = (np.sqrt(2) / denominator)        \n",
    "# print(s1)\n",
    "\n",
    "T1[0][:] = [s1, 0, -s1*image1xMean]\n",
    "T1[1][:] = [0, s1, -s1*image1yMean]\n",
    "T1[2][:] = [0, 0, 1]\n",
    "\n",
    "print(T1)"
   ]
  },
  {
   "cell_type": "markdown",
   "id": "73f7bbe4",
   "metadata": {},
   "source": [
    "### Create transformer matrix T2 for image2"
   ]
  },
  {
   "cell_type": "code",
   "execution_count": 68,
   "id": "c7bed799",
   "metadata": {},
   "outputs": [
    {
     "name": "stdout",
     "output_type": "stream",
     "text": [
      "[[ 0.00964691  0.         -3.27094465]\n",
      " [ 0.          0.00964691 -2.16155033]\n",
      " [ 0.          0.          1.        ]]\n"
     ]
    }
   ],
   "source": [
    "#Image 2 coordinates stored in 3x15 image2Array\n",
    "T2 = np.zeros((3,3))\n",
    "\n",
    "image2xMean = np.mean(image2Array[0])\n",
    "image2yMean = np.mean(image2Array[1])\n",
    "# print(image2xMean)\n",
    "# print(image2yMean)\n",
    "\n",
    "denominator = 0\n",
    "total = 0\n",
    "\n",
    "a,b = image2Array.shape\n",
    "for i in range(b):\n",
    "    total += np.sqrt((image2Array[0][i] - image2xMean)**2 + (image2Array[1][i] - image2yMean)**2)\n",
    "denominator = total / 15\n",
    "s2 = (np.sqrt(2) / denominator)        \n",
    "# print(s2)\n",
    "\n",
    "T2[0][:] = [s2, 0, -s2*image2xMean]\n",
    "T2[1][:] = [0, s2, -s2*image2yMean]\n",
    "T2[2][:] = [0, 0, 1]\n",
    "\n",
    "print(T2)"
   ]
  },
  {
   "cell_type": "markdown",
   "id": "19fe8976",
   "metadata": {},
   "source": [
    "### Find normalised 2D points for image1 and image2 using T1 and T2 respectively"
   ]
  },
  {
   "cell_type": "code",
   "execution_count": 69,
   "id": "351df06b",
   "metadata": {},
   "outputs": [],
   "source": [
    "# image1ArrayNormalised[3x15] = T1[3x3] * image1Array[3x15]\n",
    "\n",
    "image1ArrayNormalised = np.zeros((3,15))\n",
    "image1ArrayNormalised = np.dot(T1,image1Array)\n",
    "\n",
    "# image2ArrayNormalised[3x15] = T2[3x3] * image2Array[3x15]\n",
    "\n",
    "image2ArrayNormalised = np.zeros((3,15))\n",
    "image2ArrayNormalised = np.dot(T2,image2Array)"
   ]
  },
  {
   "cell_type": "markdown",
   "id": "a9203eba",
   "metadata": {},
   "source": [
    "### Compute A matrix"
   ]
  },
  {
   "cell_type": "code",
   "execution_count": 70,
   "id": "7b9b3ae6",
   "metadata": {},
   "outputs": [
    {
     "name": "stdout",
     "output_type": "stream",
     "text": [
      "(30, 9)\n"
     ]
    }
   ],
   "source": [
    "A = []\n",
    "\n",
    "for i in range(15):\n",
    "    Aeven = np.zeros(9)\n",
    "    Aodd = np.zeros(9)\n",
    "    \n",
    "    Aeven[0:3] = [image1ArrayNormalised[0][i], image1ArrayNormalised[1][i], 1]\n",
    "    Aeven[3:6] = [0, 0, 0]\n",
    "    Aeven[6:9] = [-(image1ArrayNormalised[0][i]*image2ArrayNormalised[0][i]), -image1ArrayNormalised[1][i]*image2ArrayNormalised[0][i], -image2ArrayNormalised[0][i]]\n",
    "    \n",
    "    Aodd[0:3] = [0, 0, 0]\n",
    "    Aodd[3:6] = [image1ArrayNormalised[0][i], image1ArrayNormalised[1][i], 1]\n",
    "    Aodd[6:9] = [-(image1ArrayNormalised[0][i]*image2ArrayNormalised[1][i]), -image1ArrayNormalised[1][i]*image2ArrayNormalised[1][i], -image2ArrayNormalised[1][i]]\n",
    "    \n",
    "    A.append(Aeven)\n",
    "    A.append(Aodd)\n",
    "\n",
    "A = np.array(A)\n",
    "print(A.shape)\n"
   ]
  },
  {
   "cell_type": "markdown",
   "id": "162ad3eb",
   "metadata": {},
   "source": [
    "### Compute normalised-Homography matrix H' using eigen-decomposition"
   ]
  },
  {
   "cell_type": "code",
   "execution_count": 78,
   "id": "6d01d670",
   "metadata": {},
   "outputs": [
    {
     "name": "stdout",
     "output_type": "stream",
     "text": [
      "L2 norm of rasterized matrix H is: 1.0\n",
      "Normalised Homography Matrix H' is: \n",
      "[[ 0.46200264  0.57504495  0.10529965]\n",
      " [-0.18627971  0.30385731 -0.00159494]\n",
      " [ 0.04249082  0.05379765  0.55951519]]\n"
     ]
    }
   ],
   "source": [
    "B = np.dot((np.transpose(A)),A)\n",
    "value,vector = eig(B)\n",
    "\n",
    "rasterizedVectorH = vector[:,np.argmin(value)]\n",
    "normValue = np.linalg.norm(rasterizedVectorH)\n",
    "print(\"L2 norm of rasterized matrix H is: {}\".format(normValue))\n",
    "\n",
    "normalisedHomographyH = rasterizedVectorH.reshape(3,3)\n",
    "print(\"Normalised Homography Matrix H' is: \")\n",
    "print(normalisedHomographyH)"
   ]
  },
  {
   "cell_type": "markdown",
   "id": "5bda3d8e",
   "metadata": {},
   "source": [
    "### Compute final Homography matrix H"
   ]
  },
  {
   "cell_type": "code",
   "execution_count": 79,
   "id": "896136cc",
   "metadata": {},
   "outputs": [
    {
     "name": "stdout",
     "output_type": "stream",
     "text": [
      "Final Homography matrix H that maps original points from Image 1 to Image 2 is: \n",
      "[[ 3.87480204e-01  4.84207998e-01 -2.13950934e+01]\n",
      " [-6.08850486e-02  2.70882946e-01  9.04191215e+01]\n",
      " [ 2.64281729e-04  3.34607182e-04  4.07209735e-01]]\n"
     ]
    }
   ],
   "source": [
    "finalHomographyH = np.zeros((3,3))\n",
    "finalHomographyH = np.dot((np.dot(np.linalg.inv(T2), normalisedHomographyH)), T1)\n",
    "print(\"Final Homography matrix H that maps original points from Image 1 to Image 2 is: \")\n",
    "print(finalHomographyH)\n"
   ]
  },
  {
   "cell_type": "markdown",
   "id": "34527076",
   "metadata": {},
   "source": [
    "### Plot Image 2 points and projected points from Image 1"
   ]
  },
  {
   "cell_type": "code",
   "execution_count": 80,
   "id": "12972075",
   "metadata": {},
   "outputs": [],
   "source": [
    "projectedPoints = np.zeros((3,15))\n",
    "projectedPoints = np.dot((finalHomographyH), (image1Array))\n",
    "\n",
    "projectedPointsInhomo = np.zeros((2,100))\n",
    "\n",
    "projectedPointsInhomo = projectedPoints / projectedPoints[2][:]\n",
    "\n",
    "#print(projectedPointsInhomo[:,0])"
   ]
  },
  {
   "cell_type": "code",
   "execution_count": 81,
   "id": "afbd4366",
   "metadata": {},
   "outputs": [
    {
     "data": {
      "text/plain": [
       "<matplotlib.legend.Legend at 0x7fc0d131fdf0>"
      ]
     },
     "execution_count": 81,
     "metadata": {},
     "output_type": "execute_result"
    },
    {
     "data": {
      "image/png": "[encoded data removed]",
      "text/plain": [
       "<Figure size 432x288 with 1 Axes>"
      ]
     },
     "metadata": {
      "needs_background": "light"
     },
     "output_type": "display_data"
    }
   ],
   "source": [
    "plt.scatter(image2Array[0],image2Array[1],color = 'red',s=5)\n",
    "plt.scatter(projectedPointsInhomo[0],projectedPointsInhomo[1],color = 'blue',s=5)\n",
    "plt.legend(['Image2', 'Image 1 Projected'],loc='upper left')"
   ]
  },
  {
   "cell_type": "markdown",
   "id": "a60cae89",
   "metadata": {},
   "source": [
    "### Find sum-of-squared error between Image 2 points and projected points from Image 1"
   ]
  },
  {
   "cell_type": "code",
   "execution_count": 82,
   "id": "c9d747cd",
   "metadata": {},
   "outputs": [
    {
     "name": "stdout",
     "output_type": "stream",
     "text": [
      "Sum-of-squared error is: 105.97387926939389\n"
     ]
    }
   ],
   "source": [
    "a,b = image2Array.shape\n",
    "SSE = 0\n",
    "for i in range(a):\n",
    "    for j in range(b):\n",
    "        SSE += (image2Array[i][j] - projectedPointsInhomo[i][j]) ** 2\n",
    "\n",
    "print(\"Sum-of-squared error is: {}\".format(SSE))"
   ]
  },
  {
   "cell_type": "markdown",
   "id": "9be33564",
   "metadata": {},
   "source": [
    "### Discussion"
   ]
  },
  {
   "cell_type": "markdown",
   "id": "622cd577",
   "metadata": {},
   "source": [
    "I stored the given Image 1 and Image 2 points in respective arrays and computed transformer matrices T1 and T2 to get normalised points from Image 1 and Image 2 respectively. Then I created an A matrix derived from the equations. Using eigen decomposition on A(transpose)*A, the eigen vector corresponding to smallest eigen value gives the normalised rasterized homography matrix 'h'. I unrasterized 'h' to 3x3 matrix to get the normalised homography matrix H'. Using T1(inv) and T2 transformed matrices, I calculated required un-normalised homography matrix H. After projecting and plotting points from Image 1 to Image 2, I finally calculated sum-of-squared errors between image 2 points and projected points from image 1."
   ]
  }
 ],
 "metadata": {
  "kernelspec": {
   "display_name": "Python 3 (ipykernel)",
   "language": "python",
   "name": "python3"
  },
  "language_info": {
   "codemirror_mode": {
    "name": "ipython",
    "version": 3
   },
   "file_extension": ".py",
   "mimetype": "text/x-python",
   "name": "python",
   "nbconvert_exporter": "python",
   "pygments_lexer": "ipython3",
   "version": "3.9.12"
  }
 },
 "nbformat": 4,
 "nbformat_minor": 5
}
