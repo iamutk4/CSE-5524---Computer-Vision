{
 "cells": [
  {
   "cell_type": "markdown",
   "id": "01139274",
   "metadata": {},
   "source": [
    "# CSE 5524 HW  Utkarsh Pratap Singh Jadon"
   ]
  },
  {
   "cell_type": "markdown",
   "id": "31fac23a",
   "metadata": {},
   "source": [
    "## Question1"
   ]
  },
  {
   "cell_type": "markdown",
   "id": "ac3869b3",
   "metadata": {},
   "source": [
    "### Import necessary libraries"
   ]
  },
  {
   "cell_type": "code",
   "execution_count": 2,
   "id": "a9ef4d65",
   "metadata": {},
   "outputs": [],
   "source": [
    "import matplotlib.pyplot as plt\n",
    "import matplotlib.image as mpimg\n",
    "from skimage.color import rgb2gray\n",
    "import cv2 as cv\n",
    "import numpy as np\n",
    "import math\n",
    "from PIL import Image\n",
    "import glob\n",
    "import os\n",
    "import skimage\n",
    "from os import listdir\n",
    "from os.path import join, isfile\n",
    "from skimage import morphology\n",
    "from skimage import measure,color\n",
    "from skimage import io, data \n",
    "from numpy.linalg import eig"
   ]
  },
  {
   "cell_type": "markdown",
   "id": "54d4d55f",
   "metadata": {},
   "source": [
    "### Read and normalise input grayscale images"
   ]
  },
  {
   "cell_type": "code",
   "execution_count": 3,
   "id": "769cca53",
   "metadata": {},
   "outputs": [],
   "source": [
    "#Following section reads input Grayscale box images\n",
    "boxImage1Gray = skimage.io.imread(fname=\"boxIm1.bmp\")\n",
    "boxImage2Gray = skimage.io.imread(fname=\"boxIm2.bmp\")\n",
    "boxImage3Gray = skimage.io.imread(fname=\"boxIm3.bmp\")\n",
    "boxImage4Gray = skimage.io.imread(fname=\"boxIm4.bmp\")\n",
    "\n",
    "#Following section plots all 4 grayscale images(Commented out as not required)\n",
    "# plt.subplot(2,2,1)\n",
    "# plt.imshow(boxImage1Gray, cmap=\"gray\")\n",
    "# plt.subplot(2,2,2)\n",
    "# plt.imshow(boxImage2Gray, cmap=\"gray\")\n",
    "# plt.subplot(2,2,3)\n",
    "# plt.imshow(boxImage3Gray, cmap=\"gray\")\n",
    "# plt.subplot(2,2,4)\n",
    "# plt.imshow(boxImage4Gray, cmap=\"gray\")\n",
    "\n",
    "#Normalizing input grayscale images to get range 0-1\n",
    "boxImage1Normalised = boxImage1Gray / 255\n",
    "boxImage2Normalised = boxImage2Gray / 255\n",
    "boxImage3Normalised = boxImage3Gray / 255\n",
    "boxImage4Normalised = boxImage4Gray / 255"
   ]
  },
  {
   "cell_type": "markdown",
   "id": "c48319a0",
   "metadata": {},
   "source": [
    "### Create function to compute 7 similitude moment shape descriptors"
   ]
  },
  {
   "cell_type": "code",
   "execution_count": 7,
   "id": "93efc05e",
   "metadata": {},
   "outputs": [],
   "source": [
    "def similitudeMoments(inputImage):\n",
    "    \n",
    "    a,b = inputImage.shape\n",
    "    x=0\n",
    "    y=0\n",
    "    m10 = 0\n",
    "    m01 = 0\n",
    "    m00 = 0\n",
    "    centroidX = 0\n",
    "    centroidY = 0\n",
    "    for x in range(a):\n",
    "        for y in range(b):\n",
    "                m10 += (y**1)*(x**0)*inputImage[x,y]\n",
    "                m01 += (y**0)*(x**1)*inputImage[x,y]\n",
    "                m00 += (y**0)*(x**0)*inputImage[x,y]\n",
    "    \n",
    "    centroidX = (m10) / (m00)\n",
    "    centroidY = (m01) / (m00)\n",
    "    \n",
    "    # For similitudeMoment1, p=0, q=2\n",
    "    # For similitudeMoment2, p=0, q=3\n",
    "    # For similitudeMoment3, p=1, q=1\n",
    "    # For similitudeMoment4, p=1, q=2\n",
    "    # For similitudeMoment5, p=2, q=0\n",
    "    # For similitudeMoment6, p=2, q=1\n",
    "    # For similitudeMoment7, p=3, q=0\n",
    "    \n",
    "    N = np.array([[0,2],[0,3],[1,1],[1,2],[2,0],[2,1],[3,0]])\n",
    "    numerator1 = 0\n",
    "    denominator1 = 0\n",
    "    numerator2 = 0\n",
    "    denominator2 = 0\n",
    "    numerator3 = 0\n",
    "    denominator3 = 0\n",
    "    numerator4 = 0\n",
    "    denominator4 = 0\n",
    "    numerator5 = 0\n",
    "    denominator5 = 0\n",
    "    numerator6 = 0\n",
    "    denominator6 = 0\n",
    "    numerator7 = 0\n",
    "    denominator7 = 0\n",
    "    #print(N)\n",
    "    for x in range(a):\n",
    "        for y in range(b):\n",
    "                numerator1 += ((y - centroidY)**N[0,0]) * ((x - centroidX)**N[0,1]) * inputImage[x,y]\n",
    "                denominator1 = (m00)**(((N[0,0] + N[0,1]) / 2) + 1)\n",
    "            \n",
    "                numerator2 += ((y - centroidY)**N[1,0]) * ((x - centroidX)**N[1,1]) * inputImage[x,y]\n",
    "                denominator2 = (m00)**(((N[1,0] + N[1,1] / 2)) + 1)\n",
    "                \n",
    "                numerator3 += ((y - centroidY)**N[2,0]) * ((x - centroidX)**N[2,1]) * inputImage[x,y]\n",
    "                denominator3 = (m00)**(((N[2,0] + N[2,1]) / 2) + 1)\n",
    "                \n",
    "                numerator4 += ((y - centroidY)**N[3,0]) * ((x - centroidX)**N[3,1]) * inputImage[x,y]\n",
    "                denominator4 = (m00)**(((N[3,0] + N[3,1]) / 2) + 1)\n",
    "                \n",
    "                numerator5 += ((y - centroidY)**N[4,0]) * ((x - centroidX)**N[4,1]) * inputImage[x,y]\n",
    "                denominator5 = (m00)**(((N[4,0] + N[4,1]) / 2) + 1)\n",
    "                \n",
    "                numerator6 += ((y - centroidY)**N[5,0]) * ((x - centroidX)**N[5,1]) * inputImage[x,y]\n",
    "                denominator6 = (m00)**(((N[5,0] + N[5,1]) / 2) + 1)\n",
    "                \n",
    "                numerator7 += ((y - centroidY)**N[6,0]) * ((x - centroidX)**N[6,1]) * inputImage[x,y]\n",
    "                denominator7 = (m00)**(((N[6,0] + N[6,1]) / 2) + 1)\n",
    "    \n",
    "    \n",
    "    similitudeMoment1 = numerator1 / denominator1\n",
    "    similitudeMoment2 = numerator2 / denominator2\n",
    "    similitudeMoment3 = numerator3 / denominator3\n",
    "    similitudeMoment4 = numerator4 / denominator4\n",
    "    similitudeMoment5 = numerator5 / denominator5\n",
    "    similitudeMoment6 = numerator6 / denominator6\n",
    "    similitudeMoment7 = numerator7 / denominator7\n",
    "    \n",
    "    Nvals = [similitudeMoment1,similitudeMoment2,similitudeMoment3,similitudeMoment4,similitudeMoment5,similitudeMoment6,similitudeMoment7]            \n",
    "    return Nvals\n",
    "    \n",
    "            "
   ]
  },
  {
   "cell_type": "markdown",
   "id": "244c307b",
   "metadata": {},
   "source": [
    "### Computing 7 similitude moment shape descriptors for all 4 images"
   ]
  },
  {
   "cell_type": "code",
   "execution_count": 8,
   "id": "b2150e73",
   "metadata": {},
   "outputs": [
    {
     "ename": "IndexError",
     "evalue": "index 150 is out of bounds for axis 0 with size 150",
     "output_type": "error",
     "traceback": [
      "\u001b[0;31m---------------------------------------------------------------------------\u001b[0m",
      "\u001b[0;31mIndexError\u001b[0m                                Traceback (most recent call last)",
      "Input \u001b[0;32mIn [8]\u001b[0m, in \u001b[0;36m<cell line: 1>\u001b[0;34m()\u001b[0m\n\u001b[0;32m----> 1\u001b[0m \u001b[38;5;28mprint\u001b[39m(\u001b[43msimilitudeMoments\u001b[49m\u001b[43m(\u001b[49m\u001b[43mboxImage1Normalised\u001b[49m\u001b[43m)\u001b[49m)        \u001b[38;5;66;03m# 7 Similitude moments for input image 1\u001b[39;00m\n\u001b[1;32m      2\u001b[0m \u001b[38;5;28mprint\u001b[39m(similitudeMoments(boxImage2Normalised))        \u001b[38;5;66;03m# 7 Similitude moments for input image 2\u001b[39;00m\n\u001b[1;32m      3\u001b[0m \u001b[38;5;28mprint\u001b[39m(similitudeMoments(boxImage3Normalised))        \u001b[38;5;66;03m# 7 Similitude moments for input image 3\u001b[39;00m\n",
      "Input \u001b[0;32mIn [7]\u001b[0m, in \u001b[0;36msimilitudeMoments\u001b[0;34m(inputImage)\u001b[0m\n\u001b[1;32m     44\u001b[0m \u001b[38;5;28;01mfor\u001b[39;00m y \u001b[38;5;129;01min\u001b[39;00m \u001b[38;5;28mrange\u001b[39m(a):\n\u001b[1;32m     45\u001b[0m     \u001b[38;5;28;01mfor\u001b[39;00m x \u001b[38;5;129;01min\u001b[39;00m \u001b[38;5;28mrange\u001b[39m(b):\n\u001b[0;32m---> 46\u001b[0m             numerator1 \u001b[38;5;241m+\u001b[39m\u001b[38;5;241m=\u001b[39m ((x \u001b[38;5;241m-\u001b[39m centroidX)\u001b[38;5;241m*\u001b[39m\u001b[38;5;241m*\u001b[39mN[\u001b[38;5;241m0\u001b[39m,\u001b[38;5;241m0\u001b[39m]) \u001b[38;5;241m*\u001b[39m ((y \u001b[38;5;241m-\u001b[39m centroidY)\u001b[38;5;241m*\u001b[39m\u001b[38;5;241m*\u001b[39mN[\u001b[38;5;241m0\u001b[39m,\u001b[38;5;241m1\u001b[39m]) \u001b[38;5;241m*\u001b[39m \u001b[43minputImage\u001b[49m\u001b[43m[\u001b[49m\u001b[43mx\u001b[49m\u001b[43m,\u001b[49m\u001b[43my\u001b[49m\u001b[43m]\u001b[49m\n\u001b[1;32m     47\u001b[0m             denominator1 \u001b[38;5;241m=\u001b[39m (m00)\u001b[38;5;241m*\u001b[39m\u001b[38;5;241m*\u001b[39m(((N[\u001b[38;5;241m0\u001b[39m,\u001b[38;5;241m0\u001b[39m] \u001b[38;5;241m+\u001b[39m N[\u001b[38;5;241m0\u001b[39m,\u001b[38;5;241m1\u001b[39m]) \u001b[38;5;241m/\u001b[39m \u001b[38;5;241m2\u001b[39m) \u001b[38;5;241m+\u001b[39m \u001b[38;5;241m1\u001b[39m)\n\u001b[1;32m     49\u001b[0m             numerator2 \u001b[38;5;241m+\u001b[39m\u001b[38;5;241m=\u001b[39m ((x \u001b[38;5;241m-\u001b[39m centroidX)\u001b[38;5;241m*\u001b[39m\u001b[38;5;241m*\u001b[39mN[\u001b[38;5;241m1\u001b[39m,\u001b[38;5;241m0\u001b[39m]) \u001b[38;5;241m*\u001b[39m ((y \u001b[38;5;241m-\u001b[39m centroidY)\u001b[38;5;241m*\u001b[39m\u001b[38;5;241m*\u001b[39mN[\u001b[38;5;241m1\u001b[39m,\u001b[38;5;241m1\u001b[39m]) \u001b[38;5;241m*\u001b[39m inputImage[x,y]\n",
      "\u001b[0;31mIndexError\u001b[0m: index 150 is out of bounds for axis 0 with size 150"
     ]
    }
   ],
   "source": [
    "print(similitudeMoments(boxImage1Normalised))        # 7 Similitude moments for input image 1\n",
    "print(similitudeMoments(boxImage2Normalised))        # 7 Similitude moments for input image 2\n",
    "print(similitudeMoments(boxImage3Normalised))        # 7 Similitude moments for input image 3\n",
    "print(similitudeMoments(boxImage4Normalised))        # 7 Similitude moments for input image 4"
   ]
  },
  {
   "cell_type": "markdown",
   "id": "6b57cea0",
   "metadata": {},
   "source": [
    "### Discussion"
   ]
  },
  {
   "cell_type": "markdown",
   "id": "48399837",
   "metadata": {},
   "source": [
    "We see that the change in moments across image is minute. Similitude moments are supposed to be same for a particular class of images and are invariant to size, position, and orienation. Although, this holds true assuming the images are continuous. But in reality, images are discrete and have some noise values, which contributes to this minor change amongst moment values for four box images.\n",
    "\n",
    "Some of the moments are zero because they may not have any contribution towards making the image unique.\n",
    "\n"
   ]
  },
  {
   "cell_type": "markdown",
   "id": "a1aebbe2",
   "metadata": {},
   "source": [
    "## Question 2"
   ]
  },
  {
   "cell_type": "code",
   "execution_count": 6,
   "id": "c7f33dc0",
   "metadata": {},
   "outputs": [
    {
     "data": {
      "image/png": "[encoded data removed]",
      "text/plain": [
       "<Figure size 432x288 with 1 Axes>"
      ]
     },
     "metadata": {
      "needs_background": "light"
     },
     "output_type": "display_data"
    },
    {
     "data": {
      "image/png": "[encoded data removed]",
      "text/plain": [
       "<Figure size 432x288 with 1 Axes>"
      ]
     },
     "metadata": {
      "needs_background": "light"
     },
     "output_type": "display_data"
    },
    {
     "name": "stdout",
     "output_type": "stream",
     "text": [
      "[[-2.23267762 -0.32551062]\n",
      " [ 4.59159438 -2.74455162]\n",
      " [ 9.65360038 -9.97356942]\n",
      " ...\n",
      " [ 4.51435638 -4.06081662]\n",
      " [ 8.56560838 -7.53029952]\n",
      " [ 1.40104338 -0.93675262]]\n"
     ]
    }
   ],
   "source": [
    "#Load data from 'eigendata.txt' file and store as numpy array in X\n",
    "X = np.loadtxt(\"eigdata.txt\")\n",
    "\n",
    "#Plot first column vs first row as plot 1\n",
    "plt.subplot(1,1,1)\n",
    "plt.plot(X[:,0],X[:,1],'b.')\n",
    "plt.axis('equal')\n",
    "plt.show()\n",
    "\n",
    "#Plot mean-subtract data as plot 2\n",
    "m = np.mean(X)\n",
    "a,b = X.shape\n",
    "Y = X - np.ones((a,1))*m\n",
    "plt.subplot(1,1,1)\n",
    "plt.plot(Y[:,0],Y[:,1],'r.')\n",
    "plt.axis('equal')\n",
    "plt.show()\n",
    "print(Y)"
   ]
  },
  {
   "cell_type": "markdown",
   "id": "a18d1faf",
   "metadata": {},
   "source": [
    "### Discussion"
   ]
  },
  {
   "cell_type": "markdown",
   "id": "8e8db9a3",
   "metadata": {},
   "source": [
    "Successfully able to read data from given text file, store the values in X, plot the data present inside X and plot mean shifted data Y using relevant python functions"
   ]
  },
  {
   "cell_type": "markdown",
   "id": "c426a3cb",
   "metadata": {},
   "source": [
    "## Question 3"
   ]
  },
  {
   "cell_type": "code",
   "execution_count": 6,
   "id": "9b82b460",
   "metadata": {},
   "outputs": [
    {
     "name": "stdout",
     "output_type": "stream",
     "text": [
      "Lenght of axis 1 and axis 2 are: \n",
      "14.731906093236422 3.0197483581527385\n"
     ]
    },
    {
     "data": {
      "image/png": "[encoded data removed]",
      "text/plain": [
       "<Figure size 432x288 with 1 Axes>"
      ]
     },
     "metadata": {
      "needs_background": "light"
     },
     "output_type": "display_data"
    },
    {
     "data": {
      "image/png": "[encoded data removed]",
      "text/plain": [
       "<Figure size 432x288 with 1 Axes>"
      ]
     },
     "metadata": {
      "needs_background": "light"
     },
     "output_type": "display_data"
    }
   ],
   "source": [
    "import matplotlib\n",
    "\n",
    "K = np.cov(Y.transpose(), bias=True)    #Generate covariance matrix for Y\n",
    "K_inv = np.linalg.inv(K)\n",
    "\n",
    "V,U=eig(K)                 #eig() function returns Eigen Values (V) and Eigen Vector (U) respectively using covariance K\n",
    "\n",
    "xm = np.mean((Y[:,0]))\n",
    "ym = np.mean((Y[:,1]))    #Computes x and y coordinates of mean of Y\n",
    "\n",
    "C = 9\n",
    "\n",
    "axis1 = math.sqrt(C) * (math.sqrt(V.max()))\n",
    "axis2 = math.sqrt(C) * (math.sqrt(V.min()))\n",
    "print(\"Lenght of axis 1 and axis 2 are: \")\n",
    "print(axis1,axis2)\n",
    "\n",
    "plt.subplot(1,1,1)\n",
    "plt.plot(Y[:,0],Y[:,1],'r.')\n",
    "plt.axis('equal')\n",
    "plt.show()\n",
    "\n",
    "\n",
    "x1, y1 = [(axis2)/2,(axis2)/2], [0,axis1]\n",
    "x2, y2 = [0,axis2], [(axis1)//2,(axis1)//2]\n",
    "\n",
    "plt.plot(x1, y1, x2, y2, marker = 'o')\n",
    "plt.axis('equal')\n",
    "plt.show()\n",
    "\n"
   ]
  },
  {
   "cell_type": "markdown",
   "id": "b4af8311",
   "metadata": {},
   "source": [
    "### Discussion"
   ]
  },
  {
   "cell_type": "markdown",
   "id": "9c2c2861",
   "metadata": {},
   "source": [
    "I used covariance matrix (K) to generate eigen values (V) and eigen vectors (U) of the given mean shifted data (Y). Since covariance matrix was used, the lamda obtained from V is enough to calculate the length of axis ((C*lamda)^0.5). If I had taken inverse covariance matrix (K^-1), I would have to invert the lamda to get axis lenghth (((C/lamda)^0.5).\n",
    "Since there are #3 standard deviations, we take C=9 to calculate the axis length. After getting the lengths (14.731,3.019), I drew mutually perpendicular lines, as shown above, that acts as 2-D Gaussian ellipse axis."
   ]
  },
  {
   "cell_type": "markdown",
   "id": "92269bc5",
   "metadata": {},
   "source": [
    "### Question 4"
   ]
  },
  {
   "cell_type": "code",
   "execution_count": 7,
   "id": "02b6bed9",
   "metadata": {},
   "outputs": [
    {
     "data": {
      "image/png": "[encoded data removed]",
      "text/plain": [
       "<Figure size 432x288 with 1 Axes>"
      ]
     },
     "metadata": {
      "needs_background": "light"
     },
     "output_type": "display_data"
    }
   ],
   "source": [
    "rotatedData = np.zeros((1000,2))                         #Create an empty matrix to store rotated values of Y\n",
    "i = 0\n",
    "for dataValue in Y:                                      #Creating a loop to multiply each data point in R with Eigen vector (U) and store rotated value in new empty matrix rotatedData\n",
    "    rotatedData[i] = np.dot(U.transpose(),dataValue)\n",
    "    i+=1\n",
    "plt.plot(rotatedData[:,0], rotatedData[:,1], 'r.')\n",
    "plt.axis('equal')\n",
    "plt.show()\n"
   ]
  },
  {
   "cell_type": "markdown",
   "id": "8026ee95",
   "metadata": {},
   "source": [
    "### Discussion"
   ]
  },
  {
   "cell_type": "markdown",
   "id": "79e9d487",
   "metadata": {},
   "source": [
    "The transpose of eigen vector matrix acts as a rotation matrix. I applied dot product between transpose of eigen vector and each data point in Y which gives us uncorrelated/rotated data"
   ]
  },
  {
   "cell_type": "markdown",
   "id": "6f850df1",
   "metadata": {},
   "source": [
    "### Question 5"
   ]
  },
  {
   "cell_type": "code",
   "execution_count": 8,
   "id": "2c951fb6",
   "metadata": {},
   "outputs": [
    {
     "data": {
      "text/plain": [
       "(-32.17857863012391, 15.73148498523162, 0.0, 29.4)"
      ]
     },
     "execution_count": 8,
     "metadata": {},
     "output_type": "execute_result"
    },
    {
     "data": {
      "image/png": "[encoded data removed]",
      "text/plain": [
       "<Figure size 432x288 with 1 Axes>"
      ]
     },
     "metadata": {
      "needs_background": "light"
     },
     "output_type": "display_data"
    }
   ],
   "source": [
    "projectedData = np.zeros((1000,1))\n",
    "i = 0\n",
    "for dataValue in Y:\n",
    "    projectedData[i] = np.dot(Y[0],dataValue)\n",
    "    i += 1\n",
    "plt.hist(projectedData,bins=150)\n",
    "plt.axis('equal')"
   ]
  },
  {
   "cell_type": "markdown",
   "id": "cc455c05",
   "metadata": {},
   "source": [
    "### Discussion"
   ]
  },
  {
   "cell_type": "markdown",
   "id": "f910f437",
   "metadata": {},
   "source": [
    "I projected the values from mean shifted data (Y) onto the eigen vector corresponding the largest eigen value of covariance matrix (K). Plotted histogram looks like a 1-D Gaussian."
   ]
  }
 ],
 "metadata": {
  "kernelspec": {
   "display_name": "Python 3 (ipykernel)",
   "language": "python",
   "name": "python3"
  },
  "language_info": {
   "codemirror_mode": {
    "name": "ipython",
    "version": 3
   },
   "file_extension": ".py",
   "mimetype": "text/x-python",
   "name": "python",
   "nbconvert_exporter": "python",
   "pygments_lexer": "ipython3",
   "version": "3.9.12"
  }
 },
 "nbformat": 4,
 "nbformat_minor": 5
}
